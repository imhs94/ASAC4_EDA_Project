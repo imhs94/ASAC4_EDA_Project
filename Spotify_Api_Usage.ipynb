{
 "cells": [
  {
   "cell_type": "code",
   "execution_count": null,
   "metadata": {},
   "outputs": [],
   "source": [
    "import spotipy\n",
    "from spotipy.oauth2 import SpotifyClientCredentials\n",
    "\n",
    "#Spotify API 클라이언트 초기화\n",
    "def init_spotify(client_id, client_secret):\n",
    "    auth_manager = SpotifyClientCredentials(client_id=client_id, client_secret=client_secret)\n",
    "    return spotipy.Spotify(auth_manager=auth_manager)\n",
    "\n",
    "#트랙의 오디오 분석 정보 가져오기 (danceability, energy 등)\n",
    "def get_audio_features(sp, track_id):\n",
    "    return sp.audio_features(track_id)\n",
    "\n",
    "#예시\n",
    "if __name__ == \"__main__\":\n",
    "    CLIENT_ID = \"your_client_id\"\n",
    "    CLIENT_SECRET = \"your_client_secret\"\n",
    "\n",
    "    sp = init_spotify(CLIENT_ID, CLIENT_SECRET)\n",
    "\n",
    "    #예시 트랙 ID로 오디오 분석 정보 가져오기\n",
    "    track_id = 'spotify_track_id_here'\n",
    "    audio_features = get_audio_features(sp, track_id)\n",
    "\n",
    "    print(audio_features)\n"
   ]
  }
 ],
 "metadata": {
  "language_info": {
   "name": "python"
  }
 },
 "nbformat": 4,
 "nbformat_minor": 2
}
